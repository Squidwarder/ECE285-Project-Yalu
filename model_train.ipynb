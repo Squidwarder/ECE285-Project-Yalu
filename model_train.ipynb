{
 "cells": [
  {
   "cell_type": "markdown",
   "metadata": {},
   "source": [
    "# Training Models\n",
    "\n",
    "This notebook file is used to train YOLOv8 models from dataset images which I compiled myself. After training, the best performing model would be saved as a `.pt` file under the directory `runs/<task>/train<number>/weights`. This model can then be used for the designated task (e.g. segmentation) in other applications through the YOLO library."
   ]
  },
  {
   "cell_type": "code",
   "execution_count": 4,
   "metadata": {},
   "outputs": [],
   "source": [
    "from ultralytics import YOLO\n",
    "\n",
    "model = YOLO('yolov8n.pt', task=\"segment\")"
   ]
  },
  {
   "cell_type": "code",
   "execution_count": null,
   "metadata": {},
   "outputs": [],
   "source": [
    "\n",
    "#! NEED to reduce the # of workers for model to work with GPU, otherwise takes up too much memory\n",
    "results = model.train(data='yalu_expression.yaml', epochs=20, workers=2, imgsz=192, dropout=0.2, fraction=0.5)    \n",
    "\n",
    "success = model.export()"
   ]
  }
 ],
 "metadata": {
  "kernelspec": {
   "display_name": "Python 3",
   "language": "python",
   "name": "python3"
  },
  "language_info": {
   "codemirror_mode": {
    "name": "ipython",
    "version": 3
   },
   "file_extension": ".py",
   "mimetype": "text/x-python",
   "name": "python",
   "nbconvert_exporter": "python",
   "pygments_lexer": "ipython3",
   "version": "3.10.10"
  }
 },
 "nbformat": 4,
 "nbformat_minor": 2
}
