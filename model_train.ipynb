{
 "cells": [
  {
   "cell_type": "markdown",
   "metadata": {},
   "source": [
    "# Training Models\n",
    "\n",
    "This notebook file is used to train YOLOv10 models from dataset images which I compiled myself. After training, the best performing model would be saved as a `.pt` file under the directory `runs/<task>/train<number>/weights`. This model can then be used for the designated task (e.g. segmentation) in other applications through the YOLO library."
   ]
  },
  {
   "cell_type": "code",
   "execution_count": null,
   "metadata": {},
   "outputs": [],
   "source": [
    "from ultralytics import YOLO\n",
    "``\n",
    "model = YOLO('yolov10n.pt', task=\"segment\")"
   ]
  },
  {
   "cell_type": "code",
   "execution_count": null,
   "metadata": {},
   "outputs": [],
   "source": [
    "\n",
    "#! NEED to reduce the # of workers for model to work with GPU, otherwise takes up too much memory\n",
    "results = model.train(data='yalu_expression.yaml', epochs=20, workers=2, imgsz=192, dropout=0.2, fraction=0.5)    \n",
    "\n",
    "success = model.export()"
   ]
  },
  {
   "cell_type": "markdown",
   "metadata": {},
   "source": [
    "## Reference\n",
    "\n",
    "@article{wang2024yolov10,\n",
    " title={YOLOv10: Real-Time End-to-End Object Detection},\n",
    " author={Wang, Ao and Chen, Hui and Liu, Lihao and Chen, Kai and Lin, Zijia and Han, Jungong and Ding, Guiguang},\n",
    " journal={arXiv preprint arXiv:2405.14458},\n",
    " year={2024}\n",
    "}"
   ]
  }
 ],
 "metadata": {
  "kernelspec": {
   "display_name": "Python 3",
   "language": "python",
   "name": "python3"
  },
  "language_info": {
   "name": "python",
   "version": "3.10.11"
  }
 },
 "nbformat": 4,
 "nbformat_minor": 2
}
