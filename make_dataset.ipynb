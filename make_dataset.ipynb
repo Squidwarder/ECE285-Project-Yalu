{
 "cells": [
  {
   "cell_type": "markdown",
   "metadata": {},
   "source": [
    "# Make dataset image\n",
    "\n",
    "Since I'm limited on the pictures I can take, I'm performing modifications on those pictures and saving them as new images. This way, I can grow my dataset."
   ]
  },
  {
   "cell_type": "code",
   "execution_count": 5,
   "metadata": {},
   "outputs": [],
   "source": [
    "import cv2\n",
    "import os\n",
    "\n",
    "image_dir = 'C:/Users/yaluo/UCSD_Course/ECE285/Project/dataset/PiB_parts1'\n",
    "output_dir = 'C:/Users/yaluo/UCSD_Course/ECE285/Project/dataset/PiB_parts1'\n",
    "\n",
    "# Create the output directory if it doesn't exist\n",
    "os.makedirs(output_dir, exist_ok=True)"
   ]
  },
  {
   "cell_type": "code",
   "execution_count": 8,
   "metadata": {},
   "outputs": [
    {
     "name": "stdout",
     "output_type": "stream",
     "text": [
      "number of images: 100. The first 1: arduino_box (1).JPG\n"
     ]
    }
   ],
   "source": [
    "# Get a list of all the image files in the directory\n",
    "image_files = [f for f in os.listdir(image_dir) if f.endswith(').jpg') or f.endswith(').png') or f.endswith(').JPG') ]\n",
    "print(f\"number of images: {len(image_files)}. The first 1: {image_files[0]}\") #"
   ]
  },
  {
   "cell_type": "code",
   "execution_count": 9,
   "metadata": {},
   "outputs": [],
   "source": [
    "for image_file in image_files:\n",
    "    # Construct the full path to the image file\n",
    "    image_path = os.path.join(image_dir, image_file)\n",
    "\n",
    "    # Read the image\n",
    "    image = cv2.imread(image_path)\n",
    "\n",
    "    flipped_img = cv2.flip(image, 1)\n",
    "    rotated_img = cv2.rotate(image, cv2.ROTATE_90_CLOCKWISE)\n",
    "\n",
    "    #! should be length 2 since '.' should only appear once\n",
    "    im_list = image_file.split(\".\")\n",
    "    out_FLIP = im_list[0] + '_FLIP.' + im_list[1]\n",
    "    out_ROT = im_list[0] + \"_ROT.\" + im_list[1]\n",
    "    \n",
    "    flipped_img_path = os.path.join(output_dir, out_FLIP)\n",
    "    rot_img_path = os.path.join(output_dir, out_ROT)\n",
    "\n",
    "    # Save the flipped image\n",
    "    cv2.imwrite(flipped_img_path, flipped_img)\n",
    "    cv2.imwrite(rot_img_path, rotated_img)"
   ]
  },
  {
   "cell_type": "code",
   "execution_count": 10,
   "metadata": {},
   "outputs": [
    {
     "name": "stdout",
     "output_type": "stream",
     "text": [
      "resultant image numbers: 301\n"
     ]
    }
   ],
   "source": [
    "resultant_imgs = os.listdir(output_dir)\n",
    "print(f\"resultant image numbers: {len(resultant_imgs)}\")"
   ]
  }
 ],
 "metadata": {
  "kernelspec": {
   "display_name": "Python 3",
   "language": "python",
   "name": "python3"
  },
  "language_info": {
   "codemirror_mode": {
    "name": "ipython",
    "version": 3
   },
   "file_extension": ".py",
   "mimetype": "text/x-python",
   "name": "python",
   "nbconvert_exporter": "python",
   "pygments_lexer": "ipython3",
   "version": "3.10.10"
  }
 },
 "nbformat": 4,
 "nbformat_minor": 2
}
